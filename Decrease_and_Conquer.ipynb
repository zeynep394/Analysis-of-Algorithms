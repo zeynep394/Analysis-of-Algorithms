{
 "cells": [
  {
   "cell_type": "markdown",
   "id": "6524a296",
   "metadata": {},
   "source": [
    "## Decrease and Conquer"
   ]
  },
  {
   "cell_type": "markdown",
   "id": "312fa015",
   "metadata": {},
   "source": [
    "To solve a problem use a solution of a smaller instance of the same problem.  Try to solve the smaller insatances of the problem. In every step try to decrease the problem size. Use these smaller instanace to obtain a solution for the original problem.\n",
    "\n",
    "Can either be done recursively top down or bottom up (non recursive)\n",
    "We are decreasing the problem size with different variants. Variations:\n",
    "- Decrease by a constant\n",
    "- Decrease by a constant factor\n",
    "- Variable size decrease\n"
   ]
  },
  {
   "cell_type": "markdown",
   "id": "ed794e8f",
   "metadata": {},
   "source": [
    "### Decrease by a Constant"
   ]
  },
  {
   "cell_type": "markdown",
   "id": "fb393874",
   "metadata": {},
   "source": [
    "Size of the instance is reduced by the same constant (generally 1) on each iteration of the algorithm\n",
    "\n",
    "Ex: Computing $a^{n}$ for a positive integer a."
   ]
  },
  {
   "cell_type": "markdown",
   "id": "278dceaf",
   "metadata": {},
   "source": [
    "Relationship between the problem and the solution to an instance is:\n",
    "\n",
    "$a^{n} = a^{n-1}.a$    ,   $f(n) = a^{n}$ \n",
    "\n",
    "$a^{n-1}$ can also be written as $f(n-1)$ so \n",
    "\n",
    "$f(n) = f(n-1).a$ which is a top down approach and a recursive function.\n",
    "\n",
    "\n",
    "if n > 1 $f(n) = f(n-1).a$\n",
    "\n",
    "if n = 1 $f(n) = 1$ which is also the exit point of the recursion."
   ]
  },
  {
   "cell_type": "code",
   "execution_count": 17,
   "id": "40856cf9",
   "metadata": {},
   "outputs": [
    {
     "data": {
      "text/plain": [
       "'\\ndef f(n):\\n    if n == 1:\\n        return a\\n    else:\\n        return a*f(n-1)\\n'"
      ]
     },
     "execution_count": 17,
     "metadata": {},
     "output_type": "execute_result"
    }
   ],
   "source": [
    "#ALGORITHM\n",
    "\n",
    "def f(n):\n",
    "    if n == 0:\n",
    "        return 1\n",
    "    else:\n",
    "        return a*f(n-1)\n",
    "#veya \n",
    "'''\n",
    "def f(n):\n",
    "    if n == 1:\n",
    "        return a\n",
    "    else:\n",
    "        return a*f(n-1)\n",
    "'''"
   ]
  },
  {
   "cell_type": "code",
   "execution_count": 18,
   "id": "f3f373c2",
   "metadata": {},
   "outputs": [
    {
     "data": {
      "text/plain": [
       "32"
      ]
     },
     "execution_count": 18,
     "metadata": {},
     "output_type": "execute_result"
    }
   ],
   "source": [
    "n = 5\n",
    "a = 2\n",
    "\n",
    "f(n)"
   ]
  },
  {
   "cell_type": "markdown",
   "id": "307be3ed",
   "metadata": {},
   "source": [
    "#Time complexity of the algorithm\n",
    "T(n) = T(n-1) + 1 \n",
    "T(n-1) = T(n-2) +1\n",
    "T(n) = T(n-2) + 1 + 1\n",
    "\n",
    "T(n-2) = T(n-3) + 1\n",
    "T(n) = T(n-3) + 1 + 1 + 1\n",
    "\n",
    "pattern is T(n) = T(n-i) + i \n",
    "\n",
    "n-i = 1 \n",
    "i = n-1\n",
    "\n",
    "T(n) = T(1) + n - 1 #T(1) = 0\n",
    "T(n) = n-1\n",
    "\n",
    "- This was topdown recursive definition\n",
    "- Can also be computed bottom up by multiplying a by n-1 times\n",
    "    - Complexity is same as brute force\n",
    "    "
   ]
  },
  {
   "cell_type": "markdown",
   "id": "9f20d758",
   "metadata": {},
   "source": [
    "### Decrease by a Constant Factor\n",
    "\n",
    "Usually the constant factor is 2\n",
    "\n",
    "Reduce the problems instance by a constant factor over each iteration. (decrease by half and conquer)\n",
    "\n",
    "\n"
   ]
  },
  {
   "cell_type": "markdown",
   "id": "8fcdcc93",
   "metadata": {},
   "source": [
    "## Sorting\n",
    "\n",
    "Here we use the decrease-by-one technique to sort an array A[0..n − 1]. In the technique we assume that the smaller problem of sorting the array A[0..n − 2] is already solved. Finally we have an array of size n − 1: A[0] ≤ ... ≤ A[n − 2].\n",
    "\n",
    "By using the element A[n-1] (which we don't know the position of) we can use o the smaller problem to get a solution to the original problem. All we need to find is the position of the element A[n-1] in the sorted array A[0..n − 2].\n",
    "\n",
    "We can do it by implementing the insertion sort algorithm. The algorithm scans the sorted subarray from right to left until the first element smaller than or equal to A[n − 1] is encountered. How we perform Insertion sort:\n",
    "\n",
    "! In Insertion Sort, the unsorted part of the array always starts with the second element of the array, and the sorted part of the array always starts with the first element. \n",
    "- Iterate through the unsorted part of the array, starting from the second element.\n",
    "- For each element, compare it with all the elements in the sorted part of the array from right to left until you find the correct position to insert it.\n",
    "- Shift all the elements in the sorted part of the array that are greater than the current element to the right by one position.\n",
    "- Insert the current element into the correct position in the sorted part of the array.\n",
    "- Repeat steps 2 to 4 for all the remaining elements in the unsorted part of the array.\n"
   ]
  },
  {
   "cell_type": "markdown",
   "id": "e9e09ac1",
   "metadata": {},
   "source": [
    "**Algorithm:** \n",
    "Let's say we have an unsorted array of integers: [4, 3, 1, 5, 2]\n",
    "\n",
    "We want to sort this array in ascending order using Insertion Sort.\n",
    "\n",
    "Step 1: Initially, the first element of the array (4) is already in the sorted part of the array, so the unsorted part of the array starts from index 1.\n",
    "\n",
    "[4, 3, 1, 5, 2]\n",
    "\n",
    "^ - - - -\n",
    "\n",
    "Step 2: The first element in the unsorted part of the array is 3. We compare it with the last element in the sorted part of the array (4), and since 3 is less than 4, we shift 4 one position to the right and insert 3 in its correct position.\n",
    "\n",
    "[3, 4, 1, 5, 2]\n",
    "\n",
    "^ - - - -\n",
    "\n",
    "Step 3: The next element in the unsorted part of the array is 1. We compare it with all the elements in the sorted part of the array and find that it is less than 3 and 4, so we shift both elements one position to the right and insert 1 in its correct position.\n",
    "\n",
    "[1, 3, 4, 5, 2]\n",
    "\n",
    "^ ^ - - -\n",
    "\n",
    "Step 4: The next element in the unsorted part of the array is 5. We compare it with the last element in the sorted part of the array (4), and since 5 is greater than 4, we don't need to shift any elements. We insert 5 in its correct position.\n",
    "\n",
    "[1, 3, 4, 5, 2]\n",
    "\n",
    "^ - -\n",
    "\n",
    "Step 5: The final element in the unsorted part of the array is 2. We compare it with all the elements in the sorted part of the array and find that it is less than 3, 4, and 5. So, we shift all these elements one position to the right and insert 2 in its correct position.\n",
    "\n",
    "[1, 2, 3, 4, 5]\n",
    "\n",
    "^ ^ ^ ^\n",
    "\n",
    "Step 6: The entire array is now sorted in ascending order."
   ]
  },
  {
   "cell_type": "code",
   "execution_count": 40,
   "id": "6ab9e9fe",
   "metadata": {},
   "outputs": [
    {
     "name": "stdout",
     "output_type": "stream",
     "text": [
      "[17, 29, 34, 45, 66, 68, 89, 90, 242, 2444]\n"
     ]
    }
   ],
   "source": [
    "#n = [4, 3, 1, 13,5, 2, 8, 0]\n",
    "n = [89,45,68,90,29,34,17,242 ,2444 ,66]\n",
    "\n",
    "for i in range(1,len(n)):\n",
    "    elem = n[i]\n",
    "    j = 0\n",
    "    while j<i and elem < n[i-j-1]:\n",
    "        temp = n[i-j-1]\n",
    "        n[i-j-1] = elem\n",
    "        n[i-j] = temp\n",
    "        \n",
    "        j+= 1\n",
    "print(n)            "
   ]
  },
  {
   "cell_type": "markdown",
   "id": "76ac6f58",
   "metadata": {},
   "source": [
    "Let's find the time complexity of this method: \n",
    "\n",
    "j = 0'dan başlayıp (i-1)'e kadar(dahil) dönüyor 1\n",
    "$\\sum \\limits _{i = 1} ^{n - 1}  \\sum \\limits _{j = 0} ^{i - 1} 1$\n",
    "\n",
    "$T(n) = n(n-1)\\div 2$"
   ]
  }
 ],
 "metadata": {
  "kernelspec": {
   "display_name": "Python 3 (ipykernel)",
   "language": "python",
   "name": "python3"
  },
  "language_info": {
   "codemirror_mode": {
    "name": "ipython",
    "version": 3
   },
   "file_extension": ".py",
   "mimetype": "text/x-python",
   "name": "python",
   "nbconvert_exporter": "python",
   "pygments_lexer": "ipython3",
   "version": "3.9.7"
  }
 },
 "nbformat": 4,
 "nbformat_minor": 5
}
