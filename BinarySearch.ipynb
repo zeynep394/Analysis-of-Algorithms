{
 "cells": [
  {
   "cell_type": "markdown",
   "id": "85c03262",
   "metadata": {},
   "source": [
    "### Binary Search"
   ]
  },
  {
   "cell_type": "code",
   "execution_count": 10,
   "id": "a71d8d39",
   "metadata": {},
   "outputs": [],
   "source": [
    "A = [3,14,27,31,39,42,55,70,74,81,83,93,98]\n",
    "K = 3\n",
    "\n",
    "def binary_search(l,r):\n",
    "    m = int((l + r)/2)\n",
    "    print('m: ', m , 'eleman: ', A[m])\n",
    "    print('l: ', l , 'r: ', r)\n",
    "    if l > r:\n",
    "        return -1\n",
    "    if A[m] == K:\n",
    "        return m\n",
    "    elif A[m] > K:\n",
    "        binary_search(l,m-1)\n",
    "    else:\n",
    "        binary_search(m+1,r)\n"
   ]
  },
  {
   "cell_type": "code",
   "execution_count": 11,
   "id": "2644f07e",
   "metadata": {},
   "outputs": [
    {
     "name": "stdout",
     "output_type": "stream",
     "text": [
      "m:  6 eleman:  55\n",
      "l:  0 r:  12\n",
      "m:  2 eleman:  27\n",
      "l:  0 r:  5\n",
      "m:  0 eleman:  3\n",
      "l:  0 r:  1\n",
      "None\n"
     ]
    }
   ],
   "source": [
    "a = binary_search(0,len(A)-1)\n",
    "print(a)"
   ]
  },
  {
   "cell_type": "code",
   "execution_count": 17,
   "id": "e42dbbde",
   "metadata": {},
   "outputs": [
    {
     "name": "stdout",
     "output_type": "stream",
     "text": [
      "m:  6 eleman:  55\n",
      "l:  0 r:  12\n",
      "m:  2 eleman:  27\n",
      "l:  0 r:  5\n",
      "m:  0 eleman:  3\n",
      "l:  0 r:  1\n",
      "m:  1 eleman:  14\n",
      "l:  1 r:  1\n"
     ]
    }
   ],
   "source": [
    "A = [3,14,27,31,39,42,55,70,74,81,83,93,98]\n",
    "K = 5\n",
    "l,r = 0,len(A)-1\n",
    "\n",
    "while l <= r:\n",
    "    m = int((l + r)/2)\n",
    "    \n",
    "    if A[m] == K:\n",
    "        break\n",
    "    elif A[m] > K:\n",
    "        r = m-1\n",
    "    else:\n",
    "        l= m+1"
   ]
  },
  {
   "cell_type": "markdown",
   "id": "8eb2bdf5",
   "metadata": {},
   "source": [
    "### Fake Coin Problem"
   ]
  },
  {
   "cell_type": "code",
   "execution_count": 30,
   "id": "a687f5f2",
   "metadata": {},
   "outputs": [
    {
     "name": "stdout",
     "output_type": "stream",
     "text": [
      "even\n",
      "fake coin is here [1, 1, 0, 1]\n",
      "even\n",
      "fake coin is here [0, 1]\n",
      "even\n",
      "fake coin is here [0]\n",
      "odd\n"
     ]
    }
   ],
   "source": [
    "A = [1,1,1,1,1,1,0,1,]\n",
    "n = len(A)\n",
    "\n",
    "while n >= 1:\n",
    "    \n",
    "    if n % 2 == 0:\n",
    "        print('even')\n",
    "        n = int(n/2)\n",
    "        l = A[:n] \n",
    "        r = A[n:2*n]\n",
    "\n",
    "        if sum(l) < sum(r):\n",
    "            print('fake coin is here',l)\n",
    "            A = l\n",
    "        else:\n",
    "            print('fake coin is here',r)\n",
    "            A = r\n",
    "    else:\n",
    "        n = int(n/2)\n",
    "        print('odd')\n",
    "        l = A[:n] \n",
    "        r = A[n:2*n]\n",
    "\n",
    "        if sum(l) < sum(r):\n",
    "            print('fake coin is here',l)\n",
    "            A = l\n",
    "        else:\n",
    "            print('fake coin is here',r)\n",
    "            A = r"
   ]
  },
  {
   "cell_type": "code",
   "execution_count": 35,
   "id": "8663f0b5",
   "metadata": {},
   "outputs": [
    {
     "name": "stdout",
     "output_type": "stream",
     "text": [
      "fake coin is here [1, 1, 1, 1]\n",
      "fake coin is here [1, 1]\n",
      "fake coin is here [1, 1]\n",
      "fake coin is here [1]\n",
      "fake coin is here []\n"
     ]
    }
   ],
   "source": [
    "A = [1,1,1,1,1,1,1,1,0]\n",
    "n = len(A)\n",
    "\n",
    "while n >= 1:\n",
    "    \n",
    "    \n",
    "    \n",
    "    n = int(n/2)\n",
    "    l = A[:n] \n",
    "    r = A[n:2*n]\n",
    "    if n % 2 == 1 and sum(l) == sum(r):\n",
    "        print('fake coin is here',A)\n",
    "    if sum(l) < sum(r):\n",
    "        print('fake coin is here',l)\n",
    "        A = l\n",
    "    else:\n",
    "        print('fake coin is here',r)\n",
    "        A = r\n"
   ]
  },
  {
   "cell_type": "markdown",
   "id": "7ba863b0",
   "metadata": {},
   "source": [
    "### Russian Peasant Multiplication\n",
    "\n",
    "To reduce the size of multiplication operation we divide the multiplication as factors or divisons of 2 so the computer can do a shift operation which results in faster processing."
   ]
  },
  {
   "cell_type": "markdown",
   "id": "f884392c",
   "metadata": {},
   "source": [
    "## Variable Size Decrease Algorithms"
   ]
  },
  {
   "cell_type": "markdown",
   "id": "00522ce0",
   "metadata": {},
   "source": [
    "### Merge Sort\n",
    "\n",
    "Find the kth smallest element in a list of n numbers.\n",
    "\n",
    "When k = 1, we are finding the smallest element when k = n we are finding the largest element. When k = n/2 we are finding the special variable median.\n",
    "\n",
    "The first approach may be to use merge sort to find the kth smallest element and the time complexity is $\\theta (n\\log n)$\n",
    "\n",
    "To find the kth smallest element  we divide the list into two subsets. As less than or equal to some value p and greater than p. This operation is the core element of quicksort.But this approach requires unnecessary applications. As we don't need to sort the whole list to find the kth element. What may be a better approach is partitioning. And Lamouto partitioning to do so. \n",
    "\n",
    "To find the median what we do is to round_up(len(list)/2), here we only know the position of the median now we need to sort the array to find the element belonging to this position.\n",
    "\n",
    "- s is the position of the pivot.\n",
    "- if s = [k]: pivot solves selection problem\n",
    "- if A[s] > A[k]: look for the kth smallest element in the left side\n",
    "- if A[s] < A[k]: look for the k-s the smallest element in the right side"
   ]
  },
  {
   "cell_type": "code",
   "execution_count": 7,
   "id": "0caaa7e0",
   "metadata": {},
   "outputs": [
    {
     "name": "stdout",
     "output_type": "stream",
     "text": [
      "i: 0\n",
      "i: 1\n",
      "AB\n",
      "i: 2\n",
      "i: 3\n",
      "AAXB\n",
      "i: 4\n",
      "AXB\n",
      "i: 5\n",
      "i: 6\n",
      "3\n"
     ]
    }
   ],
   "source": [
    "A = \"CABAAXBYA\"\n",
    "n = len(A)\n",
    "num = 0\n",
    "for i in range(n-2):\n",
    "    print('i:',i)\n",
    "    start = A[i]\n",
    "    j = i + 1\n",
    "    while A[i] == 'A' and j < n and A[j] !='B':\n",
    "        \n",
    "        j+=1\n",
    "    if A[i] == 'A' and A[j] == 'B':\n",
    "        print(A[i:j+1])\n",
    "        num += 1\n",
    "print(num)"
   ]
  },
  {
   "cell_type": "code",
   "execution_count": null,
   "id": "d1adf83b",
   "metadata": {},
   "outputs": [],
   "source": []
  }
 ],
 "metadata": {
  "kernelspec": {
   "display_name": "Python 3 (ipykernel)",
   "language": "python",
   "name": "python3"
  },
  "language_info": {
   "codemirror_mode": {
    "name": "ipython",
    "version": 3
   },
   "file_extension": ".py",
   "mimetype": "text/x-python",
   "name": "python",
   "nbconvert_exporter": "python",
   "pygments_lexer": "ipython3",
   "version": "3.9.7"
  }
 },
 "nbformat": 4,
 "nbformat_minor": 5
}
