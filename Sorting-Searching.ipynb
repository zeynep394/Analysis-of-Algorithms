{
 "cells": [
  {
   "cell_type": "markdown",
   "id": "1bf4d864",
   "metadata": {},
   "source": [
    "## Bubble Sort"
   ]
  },
  {
   "cell_type": "code",
   "execution_count": 2,
   "id": "476a88a0",
   "metadata": {},
   "outputs": [
    {
     "name": "stdout",
     "output_type": "stream",
     "text": [
      "i: 0\n",
      "j:  0\n",
      "j:  1\n",
      "j:  2\n",
      "j:  3\n",
      "j:  4\n",
      "j:  5\n",
      "[8, 10, 3, 1, 9, 6, 15]\n",
      "i: 1\n",
      "j:  0\n",
      "j:  1\n",
      "j:  2\n",
      "j:  3\n",
      "j:  4\n",
      "[8, 3, 1, 9, 6, 10, 15]\n",
      "i: 2\n",
      "j:  0\n",
      "j:  1\n",
      "j:  2\n",
      "j:  3\n",
      "[3, 1, 8, 6, 9, 10, 15]\n",
      "i: 3\n",
      "j:  0\n",
      "j:  1\n",
      "j:  2\n",
      "[1, 3, 6, 8, 9, 10, 15]\n",
      "i: 4\n",
      "j:  0\n",
      "j:  1\n",
      "[1, 3, 6, 8, 9, 10, 15]\n",
      "i: 5\n",
      "j:  0\n",
      "[1, 3, 6, 8, 9, 10, 15]\n"
     ]
    }
   ],
   "source": [
    "n = [10,8,15,3,1,9,6]\n",
    "\n",
    "for i in range(len(n)-1):\n",
    "    print('i:',i)\n",
    "    for j in range(len(n)-1-i):\n",
    "        print('j: ', j)\n",
    "        if n[j] > n[j+1]:\n",
    "            temp = n[j+1]\n",
    "            n[j+1] = n[j]\n",
    "            n[j] = temp\n",
    "    print(n)\n",
    "    "
   ]
  },
  {
   "cell_type": "code",
   "execution_count": null,
   "id": "3c8b08fc",
   "metadata": {},
   "outputs": [],
   "source": [
    "n = [10,8,15,3,1,9,6]\n",
    "\n",
    "for i in range(len(n)-2):\n",
    "    print('i:',i)\n",
    "    for j in range(len(n)-2-i):\n",
    "        print('j: ', j)\n",
    "        if n[j] > n[j+1]:\n",
    "            temp = n[j+1]\n",
    "            n[j+1] = n[j]\n",
    "            n[j] = temp\n",
    "    print(n)"
   ]
  },
  {
   "cell_type": "markdown",
   "id": "ae94de79",
   "metadata": {},
   "source": [
    "Time complexity of the algorithm is:\n",
    "\n",
    "$T(n) = \\sum \\limits _{i = 0} ^{n-2} \\sum \\limits _{j = 0} ^{n-2} 1$ \n"
   ]
  },
  {
   "cell_type": "markdown",
   "id": "2bd6ff9b",
   "metadata": {},
   "source": [
    "The problem here is that even the list is sorted the time complexity does not change it does not bring any advantage over us. So what we do is change the sedign a bit bc when the list is sorted there is no need to iterate over the whole list. We should be able to stop the iteration once we determine the list is sorted. Let's add an additional check for that:"
   ]
  },
  {
   "cell_type": "code",
   "execution_count": 6,
   "id": "66939445",
   "metadata": {},
   "outputs": [
    {
     "name": "stdout",
     "output_type": "stream",
     "text": [
      "i: 0\n",
      "j:  0\n",
      "j:  1\n",
      "j:  2\n",
      "j:  3\n",
      "j:  4\n",
      "j:  5\n",
      "[1, 3, 6, 8, 9, 10, 15]\n"
     ]
    }
   ],
   "source": [
    "n = [1, 3, 6, 8, 9, 10, 15] \n",
    "#[10,8,15,3,1,9,6]\n",
    "list_is_sorted = True\n",
    "for i in range(len(n)-1):\n",
    "    print('i:',i)\n",
    "    for j in range(len(n)-1-i):\n",
    "        print('j: ', j)\n",
    "        if n[j] > n[j+1]:\n",
    "            list_is_sorted = False\n",
    "            temp = n[j+1]\n",
    "            n[j+1] = n[j]\n",
    "            n[j] = temp\n",
    "    if list_is_sorted == True:\n",
    "        break\n",
    "\n",
    "print(n)"
   ]
  },
  {
   "cell_type": "markdown",
   "id": "527e230d",
   "metadata": {},
   "source": [
    "as we see now the algoithm only iterated over j to n - 1 times when the list is sorted. Otherwise it was iterating (n-1)*n times even when the list was sorted. So this is much more improved. Can I also show this on time complexity?  "
   ]
  },
  {
   "cell_type": "markdown",
   "id": "b1762f4d",
   "metadata": {},
   "source": [
    "## Sequantial Search"
   ]
  },
  {
   "cell_type": "markdown",
   "id": "7410f02c",
   "metadata": {},
   "source": [
    "Find a key inside n elements. Approach:\n",
    "- Compare list elements with the given key.\n",
    "- if key is found return key\n",
    "- if not print message"
   ]
  },
  {
   "cell_type": "code",
   "execution_count": 12,
   "id": "f69e4539",
   "metadata": {},
   "outputs": [
    {
     "name": "stdout",
     "output_type": "stream",
     "text": [
      "i:  2 6\n"
     ]
    }
   ],
   "source": [
    "\n",
    "i = 0\n",
    "key = 6\n",
    "while i < n and n[i] != key:\n",
    "    i+= 1\n",
    "if i<n:\n",
    "    return i\n",
    "else:\n",
    "    return -1\n",
    "print('i: ',i, n[i])    "
   ]
  },
  {
   "cell_type": "markdown",
   "id": "dd1b9b70",
   "metadata": {},
   "source": [
    "Time complexity of the algorithm is:\n",
    "\n",
    "$T(n) = \\sum \\limits _{i = 0} ^{n-2} \\sum \\limits _{j = 0} ^{n-2} 1$ \n",
    "\n",
    "Note: If the array is not sorted there is no more improvement that can be done for this algorithm.\n",
    "But if the array is sorted then what we can do is:  "
   ]
  },
  {
   "cell_type": "markdown",
   "id": "ea38d7f6",
   "metadata": {},
   "source": [
    "## String Matching"
   ]
  },
  {
   "cell_type": "markdown",
   "id": "d8052762",
   "metadata": {},
   "source": [
    "We are given a string of n characters text\n",
    "string of m characters which we call the pattern\n",
    "- Find a substring of text which matches pattern\n",
    "\n",
    "Approach:\n",
    "- Align the pattern with the first m characters of text\n",
    "- Compare each character in pattern with portion of text to check if they match.\n",
    "- Move pattern by one to the rigth\n",
    "- do the comparision again until text is traversed.\n",
    "\n",
    "Example of brute force string matching:"
   ]
  },
  {
   "cell_type": "code",
   "execution_count": 27,
   "id": "15546a8a",
   "metadata": {},
   "outputs": [],
   "source": [
    "#text is n\n",
    "n = \"NOBODY_NOTICED_HIM\"\n",
    "#pattern is m\n",
    "m = \"NOT\"\n",
    "\n",
    "i = 0\n",
    "n[i:i+len(m)]\n",
    "\n",
    "#iterate the whole text\n",
    "for i in range(len(n) - len(m) + 1 ): #increase i by 1, we are only shifting the substring (each string portion to be checked in text) by 1. \n",
    "    #compare pattern with selected portion of text\n",
    "\n",
    "    j = 0\n",
    "    \n",
    "    while j<len(m) and m[j] == n[i+j]:\n",
    "\n",
    "        j += 1\n",
    "        \n",
    "    if j == len(m):\n",
    "        print(m, n[i:i+j])"
   ]
  },
  {
   "cell_type": "markdown",
   "id": "f00164d9",
   "metadata": {},
   "source": [
    "Worst case analysis of the algorithm:\n",
    "\n",
    "$ T(n,m) = \\sum \\limits _{i = 0} ^{n-m} \\sum \\limits _{j = 0} ^{m-1} 1$\n",
    "\n",
    "$ T(n,m) = m(n - m + 1)$\n",
    "\n",
    "since n is much much larger than m the time complexity is:\n",
    "\n",
    "$ \\theta (nm)$"
   ]
  },
  {
   "cell_type": "code",
   "execution_count": null,
   "id": "c6471a8c",
   "metadata": {},
   "outputs": [],
   "source": []
  }
 ],
 "metadata": {
  "kernelspec": {
   "display_name": "Python 3 (ipykernel)",
   "language": "python",
   "name": "python3"
  },
  "language_info": {
   "codemirror_mode": {
    "name": "ipython",
    "version": 3
   },
   "file_extension": ".py",
   "mimetype": "text/x-python",
   "name": "python",
   "nbconvert_exporter": "python",
   "pygments_lexer": "ipython3",
   "version": "3.9.7"
  }
 },
 "nbformat": 4,
 "nbformat_minor": 5
}
