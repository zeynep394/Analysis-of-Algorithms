{
 "cells": [
  {
   "cell_type": "markdown",
   "id": "0f5b2552",
   "metadata": {},
   "source": [
    "## What is an Algorithm?"
   ]
  },
  {
   "cell_type": "markdown",
   "id": "25baf34c",
   "metadata": {},
   "source": [
    "**Problem:** Finding the greatest common divisor of two nonnegative, not-both-zero integers m and n, denoted gcd(m, n), is defined as the largest integer that divides both m and n evenly, i.e., with a remainder of zero. Find different algorithm that provide a solution to this problem."
   ]
  },
  {
   "cell_type": "markdown",
   "id": "37205e10",
   "metadata": {},
   "source": [
    "1. Euclid's algorithm:\n",
    "\n",
    "gcd(m, n) = gcd(n, m mod n) applying rapidly until ´´´m mod n == 0´´´\n",
    "\n",
    "gcd(60,24) -> gcd(24,12) -> gcd(12,0)"
   ]
  },
  {
   "cell_type": "code",
   "execution_count": 7,
   "id": "a2b0dbf0",
   "metadata": {},
   "outputs": [
    {
     "data": {
      "text/plain": [
       "60"
      ]
     },
     "execution_count": 7,
     "metadata": {},
     "output_type": "execute_result"
    }
   ],
   "source": [
    "#coding the algorithm in Python\n",
    "\n",
    "'''\n",
    "Computes gcd(m, n) by Euclid’s algorithm\n",
    "Input: Two nonnegative, not-both-zero integers m and n\n",
    "Output: Greatest common divisor of m and n\n",
    "'''\n",
    "\n",
    "def gcd(m,n):\n",
    "    while n != 0:\n",
    "        temp = n \n",
    "        n = m%n\n",
    "        m = temp\n",
    "    return m \n",
    "\n",
    "\n",
    "gcd(60,0)    "
   ]
  },
  {
   "cell_type": "markdown",
   "id": "20f35a41",
   "metadata": {},
   "source": [
    "2. Consecutive integer checking algorithm \n",
    "\n",
    "Where we check each number whether the number divides both m and n. Starting from which is the smaller of the 2 given numbers. Iterate our way decreasingly to find the largest number that divides m and n."
   ]
  },
  {
   "cell_type": "code",
   "execution_count": 29,
   "id": "35198318",
   "metadata": {},
   "outputs": [
    {
     "data": {
      "text/plain": [
       "12"
      ]
     },
     "execution_count": 29,
     "metadata": {},
     "output_type": "execute_result"
    }
   ],
   "source": [
    "#coding the algorithm in Python\n",
    "\n",
    "'''\n",
    "Computes gcd(m, n) by Euclid’s algorithm\n",
    "Input: Two nonnegative, not-both-zero integers m and n\n",
    "Output: Greatest common divisor of m and n\n",
    "'''\n",
    "\n",
    "def gcd(m,n):\n",
    "    divisor = n\n",
    "    for i in range(n):\n",
    "        if ((m % divisor) == 0 ) and ((n % divisor) == 0):\n",
    "            return divisor\n",
    "        divisor -= 1\n",
    "    \n",
    "\n",
    "\n",
    "gcd(60,24)    "
   ]
  },
  {
   "cell_type": "markdown",
   "id": "fc3ba286",
   "metadata": {},
   "source": [
    "3. Middle-school procedure"
   ]
  },
  {
   "cell_type": "markdown",
   "id": "532f1f87",
   "metadata": {},
   "source": [
    "Find the prime factors of both numbers, identify common factors of both multiply all the common prime factors together\n",
    "What we need is to write a method to find the prime factors of a given number and a method to find the common elements in these sets. "
   ]
  },
  {
   "cell_type": "markdown",
   "id": "c3af1ee8",
   "metadata": {},
   "source": [
    "3.1 Finding the prime numbers:"
   ]
  },
  {
   "cell_type": "code",
   "execution_count": null,
   "id": "64aa6bf6",
   "metadata": {},
   "outputs": [],
   "source": []
  }
 ],
 "metadata": {
  "kernelspec": {
   "display_name": "Python 3 (ipykernel)",
   "language": "python",
   "name": "python3"
  },
  "language_info": {
   "codemirror_mode": {
    "name": "ipython",
    "version": 3
   },
   "file_extension": ".py",
   "mimetype": "text/x-python",
   "name": "python",
   "nbconvert_exporter": "python",
   "pygments_lexer": "ipython3",
   "version": "3.9.7"
  }
 },
 "nbformat": 4,
 "nbformat_minor": 5
}
